{
 "cells": [
  {
   "cell_type": "code",
   "execution_count": 1,
   "id": "6436bf41-c1c0-4a80-8447-db47a126d8bb",
   "metadata": {},
   "outputs": [
    {
     "name": "stdin",
     "output_type": "stream",
     "text": [
      "Tavily API key: ········\n"
     ]
    }
   ],
   "source": [
    "import getpass\n",
    "import os\n",
    "\n",
    "if \"TAVILY_API_KEY\" not in os.environ:\n",
    "    os.environ[\"TAVILY_API_KEY\"] = getpass.getpass(\"Tavily API key:\")\n"
   ]
  },
  {
   "cell_type": "code",
   "execution_count": 11,
   "id": "ade54667-32a0-40a7-b83d-b08b085726f8",
   "metadata": {},
   "outputs": [
    {
     "name": "stdin",
     "output_type": "stream",
     "text": [
      "OpenAI API key: ········\n"
     ]
    }
   ],
   "source": [
    "if \"OPENAI_API_KEY\" not in os.environ:\n",
    "    os.environ[\"OPENAI_API_KEY\"] = getpass.getpass(\"OpenAI API key:\")"
   ]
  },
  {
   "cell_type": "code",
   "execution_count": null,
   "id": "e154130e-f1fb-4381-bd3d-f5fa502ecd9c",
   "metadata": {},
   "outputs": [],
   "source": []
  },
  {
   "cell_type": "code",
   "execution_count": 3,
   "id": "b4c0e277-28e8-4ece-b1af-c64aaf52ec05",
   "metadata": {},
   "outputs": [],
   "source": [
    "from langchain_community.tools import TavilySearchResults\n",
    "\n",
    "tool = TavilySearchResults(\n",
    "    max_results=5,\n",
    "    search_depth=\"advanced\",\n",
    "    include_answer=True,\n",
    "    include_raw_content=True,\n",
    "    include_images=False\n",
    ")\n"
   ]
  },
  {
   "cell_type": "code",
   "execution_count": 83,
   "id": "83fc7de9-a23a-4c79-bd66-2a9f0c0bfaa5",
   "metadata": {},
   "outputs": [],
   "source": [
    "from langchain_openai import ChatOpenAI\n",
    "llm = ChatOpenAI(temperature=0.7, model=\"gpt-4o-mini\")  "
   ]
  },
  {
   "cell_type": "code",
   "execution_count": null,
   "id": "04b19008-a7cc-4ffd-b8b1-393f839b273c",
   "metadata": {},
   "outputs": [],
   "source": []
  },
  {
   "cell_type": "code",
   "execution_count": null,
   "id": "bb1d0c02-89e1-433d-b04a-a27787870c81",
   "metadata": {},
   "outputs": [],
   "source": []
  },
  {
   "cell_type": "code",
   "execution_count": null,
   "id": "6c30a063-ddd5-49f5-8315-43325d0c1844",
   "metadata": {},
   "outputs": [],
   "source": []
  },
  {
   "cell_type": "code",
   "execution_count": null,
   "id": "1cdefafd-f99a-4e47-8317-10530b2fa960",
   "metadata": {},
   "outputs": [],
   "source": []
  },
  {
   "cell_type": "code",
   "execution_count": 67,
   "id": "5c7bb00b-440b-4769-8201-5683dcd520da",
   "metadata": {},
   "outputs": [],
   "source": [
    "import requests\n",
    "from bs4 import BeautifulSoup\n",
    "\n",
    "def scrape_url(url: str) -> str:\n",
    "    try:\n",
    "        response = requests.get(url)\n",
    "        response.raise_for_status() \n",
    "        soup = BeautifulSoup(response.text, 'html.parser')\n",
    "        \n",
    "\n",
    "        return soup.get_text(separator='\\n', strip=True)\n",
    "    except Exception as e:\n",
    "        print(f\"Error scraping {url}: {e}\")\n",
    "        return \"\"\n"
   ]
  },
  {
   "cell_type": "code",
   "execution_count": null,
   "id": "95425ebb-4e0a-4941-856f-0846107f4dcc",
   "metadata": {},
   "outputs": [],
   "source": []
  },
  {
   "cell_type": "code",
   "execution_count": null,
   "id": "72c17972-f4b4-497a-b17e-ceb390488809",
   "metadata": {},
   "outputs": [],
   "source": []
  },
  {
   "cell_type": "code",
   "execution_count": null,
   "id": "2738055b-2e25-4247-ae88-cd0d61de32b8",
   "metadata": {},
   "outputs": [],
   "source": []
  },
  {
   "cell_type": "code",
   "execution_count": null,
   "id": "2203a771-358e-4cd3-b283-f4fca2749811",
   "metadata": {},
   "outputs": [],
   "source": []
  },
  {
   "cell_type": "code",
   "execution_count": 77,
   "id": "d2226c32-4cac-46f1-a971-11cea190df20",
   "metadata": {},
   "outputs": [],
   "source": [
    "def code_correction_agent(current_code: str, error_message: str, context: str):\n",
    "\n",
    "    query = f\"Correct this code: {current_code}. Error: {error_message}.\"\n",
    "    \n",
    "    search_results = tool.invoke({\"query\": query})\n",
    "    \n",
    "\n",
    "    print(\"Search Result URLs:\")\n",
    "    urls = [result['url'] for result in search_results]\n",
    "    for url in urls:\n",
    "        print(url)\n",
    "    \n",
    " \n",
    "    scraped_contents = []\n",
    "    for url in urls[:1]:\n",
    "        scraped_content = scrape_url(url)\n",
    "        scraped_contents.append(scraped_content)\n",
    "    search_content = \"\\n\\n\".join(scraped_contents) \n",
    "    \n",
    "\n",
    "    llm_input = [\n",
    "        {\"role\": \"system\", \"content\": \"You are a code correction agent. Your task is to analyze the provided code, identify the reasons for any errors, and suggest a corrected version of the code. Provide a clear explanation of why the original code failed and how the corrected code resolves the issue.\"},\n",
    "        {\"role\": \"user\", \"content\": f\"Current Code:\\n{current_code}\\n\\nError Message:\\n{error_message}\\n\\nContext from Scraped URLs:\\n{context}\\n\\nRelevant Search Result:\\n{search_content}\\n\\nPlease provide an explanation of the failure and the corrected code:\"}\n",
    "    ]\n",
    "    \n",
    "    corrected_code = llm.invoke(llm_input)\n",
    "    \n",
    "    return corrected_code"
   ]
  },
  {
   "cell_type": "code",
   "execution_count": null,
   "id": "47d6478a-242a-42c3-b03d-6d0c35858d5e",
   "metadata": {},
   "outputs": [],
   "source": []
  },
  {
   "cell_type": "code",
   "execution_count": null,
   "id": "b602e42c-b96b-422a-84aa-21e27631e12e",
   "metadata": {},
   "outputs": [],
   "source": []
  },
  {
   "cell_type": "code",
   "execution_count": 85,
   "id": "0a77f087-fc5c-4466-8a2b-ccad86e1b6d3",
   "metadata": {},
   "outputs": [
    {
     "name": "stdout",
     "output_type": "stream",
     "text": [
      "Search Result URLs:\n",
      "https://sebhastian.com/typeerror-unsupported-operand-types-slash-for-str-and-int/\n",
      "https://stackoverflow.com/questions/20441035/unsupported-operand-types-for-int-and-str\n",
      "https://researchdatapod.com/python-unsupported-operand-types-for-str-and-int/\n",
      "https://www.geeksforgeeks.org/python-typeerror-unsupported-operand-type/\n",
      "https://www.geeksforgeeks.org/how-to-fix-typeerror-unsupported-operand-types-for-nonetype-and-str-in-python/\n",
      "Corrected Code and Explanation:\n",
      "content='### Explanation of the Failure\\n\\nThe `TypeError: unsupported operand type(s) for +: \\'int\\' and \\'str\\'` error occurs when attempting to add an integer (`int`) and a string (`str`) together in Python. This typically happens when user input is involved, as the `input()` function in Python always returns data as a string, regardless of what the user enters. \\n\\nIn your original function `add_numbers(a, b)`, if either `a` or `b` is a string, and the other is an integer, Python cannot perform the addition operation due to its strong typing system, which requires both operands to be of the same type.\\n\\n### Corrected Code\\n\\nTo resolve this issue, we need to ensure that both arguments `a` and `b` are converted to the same type (typically `int` if we are dealing with numbers). Here’s the corrected version of the function:\\n\\n```python\\ndef add_numbers(a, b):\\n    # Convert both inputs to integers\\n    a = int(a)\\n    b = int(b)\\n    return a + b\\n```\\n\\n### How the Corrected Code Resolves the Issue\\n\\n1. **Type Conversion**: The corrected code explicitly converts both `a` and `b` to integers using the `int()` function. This ensures that regardless of whether the inputs are initially strings, they will be treated as integers for the addition operation.\\n\\n2. **Error Prevention**: By enforcing the type conversion at the beginning of the function, it prevents the `TypeError` from occurring when the function attempts to add the two values. If the inputs are valid numerical strings (like \"5\" or \"10\"), they will be converted successfully. However, if the inputs cannot be converted to integers (like \"five\" or non-numeric strings), it will raise a `ValueError`, which can be handled if necessary.\\n\\n### Additional Consideration\\n\\nIf you\\'re expecting user input, it\\'s good practice to handle potential errors during conversion. Here’s how you might handle exceptions:\\n\\n```python\\ndef add_numbers(a, b):\\n    try:\\n        a = int(a)\\n        b = int(b)\\n    except ValueError:\\n        return \"Error: Please provide valid integers.\"\\n    \\n    return a + b\\n```\\n\\nWith this additional error handling, if a user inputs something that cannot be converted to an integer, the function will return an error message instead of crashing. This makes the function more robust and user-friendly.' additional_kwargs={'refusal': None} response_metadata={'token_usage': {'completion_tokens': 502, 'prompt_tokens': 1038, 'total_tokens': 1540, 'completion_tokens_details': {'accepted_prediction_tokens': 0, 'audio_tokens': 0, 'reasoning_tokens': 0, 'rejected_prediction_tokens': 0}, 'prompt_tokens_details': {'audio_tokens': 0, 'cached_tokens': 0}}, 'model_name': 'gpt-4o-mini-2024-07-18', 'system_fingerprint': 'fp_0705bf87c0', 'finish_reason': 'stop', 'logprobs': None} id='run-293b5521-f873-4f38-b463-765e7158b500-0' usage_metadata={'input_tokens': 1038, 'output_tokens': 502, 'total_tokens': 1540, 'input_token_details': {'audio': 0, 'cache_read': 0}, 'output_token_details': {'audio': 0, 'reasoning': 0}}\n"
     ]
    }
   ],
   "source": [
    "current_code = \"\"\"\n",
    "def add_numbers(a, b):\n",
    "    return a + b\n",
    "\"\"\"\n",
    "\n",
    "error_message = \"TypeError: unsupported operand type(s) for +: 'int' and 'str'\"\n",
    "context = \"This function is supposed to add two numbers.\"\n",
    "\n",
    "corrected_code = code_correction_agent(current_code, error_message, context)\n",
    "\n",
    "\n",
    "print(\"Corrected Code and Explanation:\")\n",
    "print(corrected_code)\n"
   ]
  },
  {
   "cell_type": "code",
   "execution_count": null,
   "id": "28a46250-869f-488e-a746-26455294e95c",
   "metadata": {},
   "outputs": [],
   "source": []
  },
  {
   "cell_type": "code",
   "execution_count": null,
   "id": "08629a03-72b0-4848-b8b0-2d0031569a27",
   "metadata": {},
   "outputs": [],
   "source": []
  }
 ],
 "metadata": {
  "kernelspec": {
   "display_name": "Python 3 (ipykernel)",
   "language": "python",
   "name": "python3"
  },
  "language_info": {
   "codemirror_mode": {
    "name": "ipython",
    "version": 3
   },
   "file_extension": ".py",
   "mimetype": "text/x-python",
   "name": "python",
   "nbconvert_exporter": "python",
   "pygments_lexer": "ipython3",
   "version": "3.12.4"
  }
 },
 "nbformat": 4,
 "nbformat_minor": 5
}
