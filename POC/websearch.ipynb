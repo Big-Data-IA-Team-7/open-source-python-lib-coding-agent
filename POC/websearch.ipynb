{
 "cells": [
  {
   "cell_type": "code",
   "execution_count": null,
   "metadata": {},
   "outputs": [],
   "source": [
    "SERPAPI_KEY=''\n",
    "SERPAPI_PARAMS = {\n",
    "    \"engine\": \"google\",\n",
    "    \"api_key\": SERPAPI_KEY,\n",
    "}\n",
    "\n",
    "\n",
    "from serpapi.google_search import GoogleSearch\n",
    "\n",
    "def web_search(query: str):\n",
    "    \"\"\"Finds general knowledge information using Google search. Can also be used\n",
    "    to augment more 'general' knowledge to a previous specialist query.\"\"\"\n",
    "    search = GoogleSearch({\n",
    "        **SERPAPI_PARAMS,\n",
    "        \"q\": query,\n",
    "        \"num\": 3\n",
    "    })\n",
    "    results = search.get_dict()\n",
    "    # contexts = \"\\n---\\n\".join(\n",
    "    #     [\"\\n\".join([x[\"title\"], x[\"snippet\"], x[\"link\"]]) for x in results]\n",
    "    # )\n",
    "\n",
    "    print(results)\n",
    "    return results"
   ]
  },
  {
   "cell_type": "code",
   "execution_count": null,
   "metadata": {},
   "outputs": [],
   "source": []
  },
  {
   "cell_type": "code",
   "execution_count": null,
   "metadata": {},
   "outputs": [],
   "source": []
  },
  {
   "cell_type": "code",
   "execution_count": null,
   "metadata": {},
   "outputs": [],
   "source": []
  },
  {
   "cell_type": "code",
   "execution_count": 20,
   "metadata": {},
   "outputs": [
    {
     "name": "stdout",
     "output_type": "stream",
     "text": [
      "{'search_metadata': {'id': '674e05526aa3648394122a24', 'status': 'Success', 'json_endpoint': 'https://serpapi.com/searches/db4e8a80fa80d477/674e05526aa3648394122a24.json', 'created_at': '2024-12-02 19:06:58 UTC', 'processed_at': '2024-12-02 19:06:58 UTC', 'google_url': 'https://www.google.com/search?q=cannot+import+name+%27GoogleSearch%27+from+%27serpapi%27+%28%2Fopt%2Fanaconda3%2Fenvs%2Fcodagent%2Flib%2Fpython3.12%2Fsite-packages%2Fserpapi%2F__init__.py%29&oq=cannot+import+name+%27GoogleSearch%27+from+%27serpapi%27+%28%2Fopt%2Fanaconda3%2Fenvs%2Fcodagent%2Flib%2Fpython3.12%2Fsite-packages%2Fserpapi%2F__init__.py%29&num=3&sourceid=chrome&ie=UTF-8', 'raw_html_file': 'https://serpapi.com/searches/db4e8a80fa80d477/674e05526aa3648394122a24.html', 'total_time_taken': 0.84}, 'search_parameters': {'engine': 'google', 'q': \"cannot import name 'GoogleSearch' from 'serpapi' (/opt/anaconda3/envs/codagent/lib/python3.12/site-packages/serpapi/__init__.py)\", 'google_domain': 'google.com', 'num': '3', 'device': 'desktop'}, 'search_information': {'query_displayed': \"cannot import name 'GoogleSearch' from 'serpapi' (/opt/anaconda3/envs/codagent/lib/python3.12/site-packages/serpapi/__init__.py)\", 'total_results': 1520, 'time_taken_displayed': 0.36, 'organic_results_state': 'Results for exact spelling'}, 'organic_results': [{'position': 1, 'title': \"ImportError: cannot import name 'GoogleSearch' from ' ...\", 'link': 'https://github.com/serpapi/google-search-results-python/issues/63', 'redirect_link': 'https://www.google.com/url?sa=t&source=web&rct=j&opi=89978449&url=https://github.com/serpapi/google-search-results-python/issues/63&ved=2ahUKEwimrN-F5ImKAxUQGtAFHc9uM6sQFnoECCYQAQ', 'displayed_link': 'https://github.com › google-search-results-python › issues', 'favicon': 'https://serpapi.com/searches/674e05526aa3648394122a24/images/e60197fc38113422c0db50257c5ba86b780e7ba4fc33b6de22afa028bf091b92.png', 'date': 'Nov 25, 2023', 'snippet': 'I also got the same issue. Before, I just installed \"pip install serpapi\" and then tried to import \"GoogleSearch\", which gave me the same error.', 'snippet_highlighted_words': ['serpapi', 'import', 'GoogleSearch'], 'sitelinks': {'list': [{'title': \"`initialized module 'serpapi' has no attribute 'GoogleSearch ...\", 'link': 'https://github.com/serpapi/google-search-results-python/issues/42', 'date': 'Apr 3, 2023'}, {'title': 'Custom agent tutorial doesnt handle replacing SerpAPI with ...', 'link': 'https://github.com/hwchase17/langchain/issues/3485', 'date': 'Apr 24, 2023'}, {'title': 'Serpapi API key not working with Langchain · Issue #7971', 'link': 'https://github.com/hwchase17/langchain/issues/7971', 'date': 'Jul 19, 2023'}]}, 'missing': ['codagent/'], 'must_include': {'word': 'codagent/', 'link': \"https://www.google.com/search?num=3&sca_esv=4dae32ac01e8b27f&q=cannot+import+name+'GoogleSearch'+from+'serpapi'+(/opt/anaconda3/envs/+%22codagent/%22+lib/python3.12/site-packages/serpapi/__init__.py)&sa=X&ved=2ahUKEwimrN-F5ImKAxUQGtAFHc9uM6sQ5t4CegQILhAB\"}, 'source': 'GitHub'}, {'position': 2, 'title': 'Module not found Error when using Google Search API ...', 'link': 'https://stackoverflow.com/questions/68912059/module-not-found-error-when-using-google-search-api-serpapi', 'redirect_link': 'https://www.google.com/url?sa=t&source=web&rct=j&opi=89978449&url=https://stackoverflow.com/questions/68912059/module-not-found-error-when-using-google-search-api-serpapi&ved=2ahUKEwimrN-F5ImKAxUQGtAFHc9uM6sQFnoECCQQAQ', 'displayed_link': 'https://stackoverflow.com › questions › module-not-fou...', 'favicon': 'https://serpapi.com/searches/674e05526aa3648394122a24/images/e60197fc38113422c0db50257c5ba86b1fec48037dbb68c97617b1470a8c7480.png', 'snippet': \"I get the error: ModuleNotFoundError: No module named 'serpapi'. I can't find anything on Google/Bing search nor the documentation on how to go about ...\", 'snippet_highlighted_words': ['No module', 'serpapi', \"can't\"], 'sitelinks': {'list': [{'title': 'Can not import module search from google module in python', 'link': 'https://stackoverflow.com/questions/44268763/can-not-import-module-search-from-google-module-in-python', 'date': 'May 30, 2017'}, {'title': \"ImportError: cannot import name 'search' from 'googlesearch'\", 'link': 'https://stackoverflow.com/questions/68031375/importerror-cannot-import-name-search-from-googlesearch', 'date': 'Jun 18, 2021'}, {'title': \"cannot import name 'search' from 'googlesearch' in python\", 'link': 'https://stackoverflow.com/questions/77580877/importerror-cannot-import-name-search-from-googlesearch-in-python', 'date': 'Nov 30, 2023'}, {'title': \"cannot import name '...' from partially initialized module ...\", 'link': 'https://stackoverflow.com/questions/64807163/importerror-cannot-import-name-from-partially-initialized-module-m', 'date': 'Nov 12, 2020'}]}, 'missing': ['codagent/'], 'must_include': {'word': 'codagent/', 'link': \"https://www.google.com/search?num=3&sca_esv=4dae32ac01e8b27f&q=cannot+import+name+'GoogleSearch'+from+'serpapi'+(/opt/anaconda3/envs/+%22codagent/%22+lib/python3.12/site-packages/serpapi/__init__.py)&sa=X&ved=2ahUKEwimrN-F5ImKAxUQGtAFHc9uM6sQ5t4CegQIKhAB\"}, 'source': 'Stack Overflow'}, {'position': 3, 'title': 'importing problem (i.e. cannot import **** from ****) : Forums', 'link': 'https://www.pythonanywhere.com/forums/topic/34557/', 'redirect_link': 'https://www.google.com/url?sa=t&source=web&rct=j&opi=89978449&url=https://www.pythonanywhere.com/forums/topic/34557/&ved=2ahUKEwimrN-F5ImKAxUQGtAFHc9uM6sQFnoECCAQAQ', 'displayed_link': 'https://www.pythonanywhere.com › forums › topic', 'favicon': 'https://serpapi.com/searches/674e05526aa3648394122a24/images/e60197fc38113422c0db50257c5ba86b6be5f036bb2c4cb5fbb50b191257d641.png', 'date': 'May 10, 2024', 'snippet': 'Hi all,. I made a scheduled task that would run every day at a specified time, and opened up a bash where I would import all the libraries ...', 'snippet_highlighted_words': ['import', 'libraries'], 'missing': ['opt/', 'anaconda3/', 'envs/'], 'source': 'PythonAnywhere'}], 'related_searches': [{'block_position': 1, 'query': \"attributeerror: module 'serpapi' has no attribute 'client'\", 'link': 'https://www.google.com/search?num=3&sca_esv=4dae32ac01e8b27f&q=attributeerror:+module+%27serpapi%27+has+no+attribute+%27client%27&sa=X&ved=2ahUKEwimrN-F5ImKAxUQGtAFHc9uM6sQ1QJ6BAgXEAE', 'serpapi_link': 'https://serpapi.com/search.json?device=desktop&engine=google&google_domain=google.com&num=3&q=attributeerror%3A+module+%27serpapi%27+has+no+attribute+%27client%27'}, {'block_position': 1, 'query': 'Serpapi-Python', 'link': 'https://www.google.com/search?num=3&sca_esv=4dae32ac01e8b27f&q=Serpapi-Python&sa=X&ved=2ahUKEwimrN-F5ImKAxUQGtAFHc9uM6sQ1QJ6BAgWEAE', 'serpapi_link': 'https://serpapi.com/search.json?device=desktop&engine=google&google_domain=google.com&num=3&q=Serpapi-Python'}, {'block_position': 1, 'query': 'Pip install serpapi', 'link': 'https://www.google.com/search?num=3&sca_esv=4dae32ac01e8b27f&q=Pip+install+serpapi&sa=X&ved=2ahUKEwimrN-F5ImKAxUQGtAFHc9uM6sQ1QJ6BAgVEAE', 'serpapi_link': 'https://serpapi.com/search.json?device=desktop&engine=google&google_domain=google.com&num=3&q=Pip+install+serpapi'}, {'block_position': 1, 'query': 'SerpApi search', 'link': 'https://www.google.com/search?num=3&sca_esv=4dae32ac01e8b27f&q=SerpApi+search&sa=X&ved=2ahUKEwimrN-F5ImKAxUQGtAFHc9uM6sQ1QJ6BAgREAE', 'serpapi_link': 'https://serpapi.com/search.json?device=desktop&engine=google&google_domain=google.com&num=3&q=SerpApi+search'}, {'block_position': 1, 'query': \"module 'serpapi' has no attribute 'search'\", 'link': 'https://www.google.com/search?num=3&sca_esv=4dae32ac01e8b27f&q=module+%27serpapi%27+has+no+attribute+%27search%27&sa=X&ved=2ahUKEwimrN-F5ImKAxUQGtAFHc9uM6sQ1QJ6BAgTEAE', 'serpapi_link': 'https://serpapi.com/search.json?device=desktop&engine=google&google_domain=google.com&num=3&q=module+%27serpapi%27+has+no+attribute+%27search%27'}, {'block_position': 1, 'query': 'SerpApi github', 'link': 'https://www.google.com/search?num=3&sca_esv=4dae32ac01e8b27f&q=SerpApi+github&sa=X&ved=2ahUKEwimrN-F5ImKAxUQGtAFHc9uM6sQ1QJ6BAgUEAE', 'serpapi_link': 'https://serpapi.com/search.json?device=desktop&engine=google&google_domain=google.com&num=3&q=SerpApi+github'}, {'block_position': 1, 'query': 'Python3 pip install googlesearch python', 'link': 'https://www.google.com/search?num=3&sca_esv=4dae32ac01e8b27f&q=Python3+pip+install+googlesearch+python&sa=X&ved=2ahUKEwimrN-F5ImKAxUQGtAFHc9uM6sQ1QJ6BAgQEAE', 'serpapi_link': 'https://serpapi.com/search.json?device=desktop&engine=google&google_domain=google.com&num=3&q=Python3+pip+install+googlesearch+python'}, {'block_position': 1, 'query': 'Pip install google-search-results', 'link': 'https://www.google.com/search?num=3&sca_esv=4dae32ac01e8b27f&q=Pip+install+google-search-results&sa=X&ved=2ahUKEwimrN-F5ImKAxUQGtAFHc9uM6sQ1QJ6BAgSEAE', 'serpapi_link': 'https://serpapi.com/search.json?device=desktop&engine=google&google_domain=google.com&num=3&q=Pip+install+google-search-results'}], 'pagination': {'current': 1, 'next': \"https://www.google.com/search?q=cannot+import+name+'GoogleSearch'+from+'serpapi'+(/opt/anaconda3/envs/codagent/lib/python3.12/site-packages/serpapi/__init__.py)&num=3&sca_esv=4dae32ac01e8b27f&ei=UgVOZ6a7JZC0wN4Pz93N2Qo&start=3&sa=N&sstk=ATObxK5rH1QlB4bErejxrThpaIpl_CrTB82ZgTrwu-TaGa5sJ1vkxbxU-GiV8Lmv-GEyAPo5OWNJA08uMs-CCXQlCt0da1Zkq74zVQ&ved=2ahUKEwimrN-F5ImKAxUQGtAFHc9uM6sQ8NMDegQIDRAW\", 'other_pages': {'2': \"https://www.google.com/search?q=cannot+import+name+'GoogleSearch'+from+'serpapi'+(/opt/anaconda3/envs/codagent/lib/python3.12/site-packages/serpapi/__init__.py)&num=3&sca_esv=4dae32ac01e8b27f&ei=UgVOZ6a7JZC0wN4Pz93N2Qo&start=3&sa=N&sstk=ATObxK5rH1QlB4bErejxrThpaIpl_CrTB82ZgTrwu-TaGa5sJ1vkxbxU-GiV8Lmv-GEyAPo5OWNJA08uMs-CCXQlCt0da1Zkq74zVQ&ved=2ahUKEwimrN-F5ImKAxUQGtAFHc9uM6sQ8tMDegQIDRAE\", '3': \"https://www.google.com/search?q=cannot+import+name+'GoogleSearch'+from+'serpapi'+(/opt/anaconda3/envs/codagent/lib/python3.12/site-packages/serpapi/__init__.py)&num=3&sca_esv=4dae32ac01e8b27f&ei=UgVOZ6a7JZC0wN4Pz93N2Qo&start=6&sa=N&sstk=ATObxK5rH1QlB4bErejxrThpaIpl_CrTB82ZgTrwu-TaGa5sJ1vkxbxU-GiV8Lmv-GEyAPo5OWNJA08uMs-CCXQlCt0da1Zkq74zVQ&ved=2ahUKEwimrN-F5ImKAxUQGtAFHc9uM6sQ8tMDegQIDRAG\", '4': \"https://www.google.com/search?q=cannot+import+name+'GoogleSearch'+from+'serpapi'+(/opt/anaconda3/envs/codagent/lib/python3.12/site-packages/serpapi/__init__.py)&num=3&sca_esv=4dae32ac01e8b27f&ei=UgVOZ6a7JZC0wN4Pz93N2Qo&start=9&sa=N&sstk=ATObxK5rH1QlB4bErejxrThpaIpl_CrTB82ZgTrwu-TaGa5sJ1vkxbxU-GiV8Lmv-GEyAPo5OWNJA08uMs-CCXQlCt0da1Zkq74zVQ&ved=2ahUKEwimrN-F5ImKAxUQGtAFHc9uM6sQ8tMDegQIDRAI\", '5': \"https://www.google.com/search?q=cannot+import+name+'GoogleSearch'+from+'serpapi'+(/opt/anaconda3/envs/codagent/lib/python3.12/site-packages/serpapi/__init__.py)&num=3&sca_esv=4dae32ac01e8b27f&ei=UgVOZ6a7JZC0wN4Pz93N2Qo&start=12&sa=N&sstk=ATObxK5rH1QlB4bErejxrThpaIpl_CrTB82ZgTrwu-TaGa5sJ1vkxbxU-GiV8Lmv-GEyAPo5OWNJA08uMs-CCXQlCt0da1Zkq74zVQ&ved=2ahUKEwimrN-F5ImKAxUQGtAFHc9uM6sQ8tMDegQIDRAK\", '6': \"https://www.google.com/search?q=cannot+import+name+'GoogleSearch'+from+'serpapi'+(/opt/anaconda3/envs/codagent/lib/python3.12/site-packages/serpapi/__init__.py)&num=3&sca_esv=4dae32ac01e8b27f&ei=UgVOZ6a7JZC0wN4Pz93N2Qo&start=15&sa=N&sstk=ATObxK5rH1QlB4bErejxrThpaIpl_CrTB82ZgTrwu-TaGa5sJ1vkxbxU-GiV8Lmv-GEyAPo5OWNJA08uMs-CCXQlCt0da1Zkq74zVQ&ved=2ahUKEwimrN-F5ImKAxUQGtAFHc9uM6sQ8tMDegQIDRAM\", '7': \"https://www.google.com/search?q=cannot+import+name+'GoogleSearch'+from+'serpapi'+(/opt/anaconda3/envs/codagent/lib/python3.12/site-packages/serpapi/__init__.py)&num=3&sca_esv=4dae32ac01e8b27f&ei=UgVOZ6a7JZC0wN4Pz93N2Qo&start=18&sa=N&sstk=ATObxK5rH1QlB4bErejxrThpaIpl_CrTB82ZgTrwu-TaGa5sJ1vkxbxU-GiV8Lmv-GEyAPo5OWNJA08uMs-CCXQlCt0da1Zkq74zVQ&ved=2ahUKEwimrN-F5ImKAxUQGtAFHc9uM6sQ8tMDegQIDRAO\", '8': \"https://www.google.com/search?q=cannot+import+name+'GoogleSearch'+from+'serpapi'+(/opt/anaconda3/envs/codagent/lib/python3.12/site-packages/serpapi/__init__.py)&num=3&sca_esv=4dae32ac01e8b27f&ei=UgVOZ6a7JZC0wN4Pz93N2Qo&start=21&sa=N&sstk=ATObxK5rH1QlB4bErejxrThpaIpl_CrTB82ZgTrwu-TaGa5sJ1vkxbxU-GiV8Lmv-GEyAPo5OWNJA08uMs-CCXQlCt0da1Zkq74zVQ&ved=2ahUKEwimrN-F5ImKAxUQGtAFHc9uM6sQ8tMDegQIDRAQ\", '9': \"https://www.google.com/search?q=cannot+import+name+'GoogleSearch'+from+'serpapi'+(/opt/anaconda3/envs/codagent/lib/python3.12/site-packages/serpapi/__init__.py)&num=3&sca_esv=4dae32ac01e8b27f&ei=UgVOZ6a7JZC0wN4Pz93N2Qo&start=24&sa=N&sstk=ATObxK5rH1QlB4bErejxrThpaIpl_CrTB82ZgTrwu-TaGa5sJ1vkxbxU-GiV8Lmv-GEyAPo5OWNJA08uMs-CCXQlCt0da1Zkq74zVQ&ved=2ahUKEwimrN-F5ImKAxUQGtAFHc9uM6sQ8tMDegQIDRAS\", '10': \"https://www.google.com/search?q=cannot+import+name+'GoogleSearch'+from+'serpapi'+(/opt/anaconda3/envs/codagent/lib/python3.12/site-packages/serpapi/__init__.py)&num=3&sca_esv=4dae32ac01e8b27f&ei=UgVOZ6a7JZC0wN4Pz93N2Qo&start=27&sa=N&sstk=ATObxK5rH1QlB4bErejxrThpaIpl_CrTB82ZgTrwu-TaGa5sJ1vkxbxU-GiV8Lmv-GEyAPo5OWNJA08uMs-CCXQlCt0da1Zkq74zVQ&ved=2ahUKEwimrN-F5ImKAxUQGtAFHc9uM6sQ8tMDegQIDRAU\"}}, 'serpapi_pagination': {'current': 1, 'next_link': 'https://serpapi.com/search.json?device=desktop&engine=google&google_domain=google.com&num=3&q=cannot+import+name+%27GoogleSearch%27+from+%27serpapi%27+%28%2Fopt%2Fanaconda3%2Fenvs%2Fcodagent%2Flib%2Fpython3.12%2Fsite-packages%2Fserpapi%2F__init__.py%29&start=3', 'next': 'https://serpapi.com/search.json?device=desktop&engine=google&google_domain=google.com&num=3&q=cannot+import+name+%27GoogleSearch%27+from+%27serpapi%27+%28%2Fopt%2Fanaconda3%2Fenvs%2Fcodagent%2Flib%2Fpython3.12%2Fsite-packages%2Fserpapi%2F__init__.py%29&start=3', 'other_pages': {'2': 'https://serpapi.com/search.json?device=desktop&engine=google&google_domain=google.com&num=3&q=cannot+import+name+%27GoogleSearch%27+from+%27serpapi%27+%28%2Fopt%2Fanaconda3%2Fenvs%2Fcodagent%2Flib%2Fpython3.12%2Fsite-packages%2Fserpapi%2F__init__.py%29&start=3', '3': 'https://serpapi.com/search.json?device=desktop&engine=google&google_domain=google.com&num=3&q=cannot+import+name+%27GoogleSearch%27+from+%27serpapi%27+%28%2Fopt%2Fanaconda3%2Fenvs%2Fcodagent%2Flib%2Fpython3.12%2Fsite-packages%2Fserpapi%2F__init__.py%29&start=6', '4': 'https://serpapi.com/search.json?device=desktop&engine=google&google_domain=google.com&num=3&q=cannot+import+name+%27GoogleSearch%27+from+%27serpapi%27+%28%2Fopt%2Fanaconda3%2Fenvs%2Fcodagent%2Flib%2Fpython3.12%2Fsite-packages%2Fserpapi%2F__init__.py%29&start=9', '5': 'https://serpapi.com/search.json?device=desktop&engine=google&google_domain=google.com&num=3&q=cannot+import+name+%27GoogleSearch%27+from+%27serpapi%27+%28%2Fopt%2Fanaconda3%2Fenvs%2Fcodagent%2Flib%2Fpython3.12%2Fsite-packages%2Fserpapi%2F__init__.py%29&start=12', '6': 'https://serpapi.com/search.json?device=desktop&engine=google&google_domain=google.com&num=3&q=cannot+import+name+%27GoogleSearch%27+from+%27serpapi%27+%28%2Fopt%2Fanaconda3%2Fenvs%2Fcodagent%2Flib%2Fpython3.12%2Fsite-packages%2Fserpapi%2F__init__.py%29&start=15', '7': 'https://serpapi.com/search.json?device=desktop&engine=google&google_domain=google.com&num=3&q=cannot+import+name+%27GoogleSearch%27+from+%27serpapi%27+%28%2Fopt%2Fanaconda3%2Fenvs%2Fcodagent%2Flib%2Fpython3.12%2Fsite-packages%2Fserpapi%2F__init__.py%29&start=18', '8': 'https://serpapi.com/search.json?device=desktop&engine=google&google_domain=google.com&num=3&q=cannot+import+name+%27GoogleSearch%27+from+%27serpapi%27+%28%2Fopt%2Fanaconda3%2Fenvs%2Fcodagent%2Flib%2Fpython3.12%2Fsite-packages%2Fserpapi%2F__init__.py%29&start=21', '9': 'https://serpapi.com/search.json?device=desktop&engine=google&google_domain=google.com&num=3&q=cannot+import+name+%27GoogleSearch%27+from+%27serpapi%27+%28%2Fopt%2Fanaconda3%2Fenvs%2Fcodagent%2Flib%2Fpython3.12%2Fsite-packages%2Fserpapi%2F__init__.py%29&start=24', '10': 'https://serpapi.com/search.json?device=desktop&engine=google&google_domain=google.com&num=3&q=cannot+import+name+%27GoogleSearch%27+from+%27serpapi%27+%28%2Fopt%2Fanaconda3%2Fenvs%2Fcodagent%2Flib%2Fpython3.12%2Fsite-packages%2Fserpapi%2F__init__.py%29&start=27'}}}\n",
      "<class 'dict'>\n"
     ]
    },
    {
     "data": {
      "text/plain": [
       "{'search_metadata': {'id': '674e05526aa3648394122a24',\n",
       "  'status': 'Success',\n",
       "  'json_endpoint': 'https://serpapi.com/searches/db4e8a80fa80d477/674e05526aa3648394122a24.json',\n",
       "  'created_at': '2024-12-02 19:06:58 UTC',\n",
       "  'processed_at': '2024-12-02 19:06:58 UTC',\n",
       "  'google_url': 'https://www.google.com/search?q=cannot+import+name+%27GoogleSearch%27+from+%27serpapi%27+%28%2Fopt%2Fanaconda3%2Fenvs%2Fcodagent%2Flib%2Fpython3.12%2Fsite-packages%2Fserpapi%2F__init__.py%29&oq=cannot+import+name+%27GoogleSearch%27+from+%27serpapi%27+%28%2Fopt%2Fanaconda3%2Fenvs%2Fcodagent%2Flib%2Fpython3.12%2Fsite-packages%2Fserpapi%2F__init__.py%29&num=3&sourceid=chrome&ie=UTF-8',\n",
       "  'raw_html_file': 'https://serpapi.com/searches/db4e8a80fa80d477/674e05526aa3648394122a24.html',\n",
       "  'total_time_taken': 0.84},\n",
       " 'search_parameters': {'engine': 'google',\n",
       "  'q': \"cannot import name 'GoogleSearch' from 'serpapi' (/opt/anaconda3/envs/codagent/lib/python3.12/site-packages/serpapi/__init__.py)\",\n",
       "  'google_domain': 'google.com',\n",
       "  'num': '3',\n",
       "  'device': 'desktop'},\n",
       " 'search_information': {'query_displayed': \"cannot import name 'GoogleSearch' from 'serpapi' (/opt/anaconda3/envs/codagent/lib/python3.12/site-packages/serpapi/__init__.py)\",\n",
       "  'total_results': 1520,\n",
       "  'time_taken_displayed': 0.36,\n",
       "  'organic_results_state': 'Results for exact spelling'},\n",
       " 'organic_results': [{'position': 1,\n",
       "   'title': \"ImportError: cannot import name 'GoogleSearch' from ' ...\",\n",
       "   'link': 'https://github.com/serpapi/google-search-results-python/issues/63',\n",
       "   'redirect_link': 'https://www.google.com/url?sa=t&source=web&rct=j&opi=89978449&url=https://github.com/serpapi/google-search-results-python/issues/63&ved=2ahUKEwimrN-F5ImKAxUQGtAFHc9uM6sQFnoECCYQAQ',\n",
       "   'displayed_link': 'https://github.com › google-search-results-python › issues',\n",
       "   'favicon': 'https://serpapi.com/searches/674e05526aa3648394122a24/images/e60197fc38113422c0db50257c5ba86b780e7ba4fc33b6de22afa028bf091b92.png',\n",
       "   'date': 'Nov 25, 2023',\n",
       "   'snippet': 'I also got the same issue. Before, I just installed \"pip install serpapi\" and then tried to import \"GoogleSearch\", which gave me the same error.',\n",
       "   'snippet_highlighted_words': ['serpapi', 'import', 'GoogleSearch'],\n",
       "   'sitelinks': {'list': [{'title': \"`initialized module 'serpapi' has no attribute 'GoogleSearch ...\",\n",
       "      'link': 'https://github.com/serpapi/google-search-results-python/issues/42',\n",
       "      'date': 'Apr 3, 2023'},\n",
       "     {'title': 'Custom agent tutorial doesnt handle replacing SerpAPI with ...',\n",
       "      'link': 'https://github.com/hwchase17/langchain/issues/3485',\n",
       "      'date': 'Apr 24, 2023'},\n",
       "     {'title': 'Serpapi API key not working with Langchain · Issue #7971',\n",
       "      'link': 'https://github.com/hwchase17/langchain/issues/7971',\n",
       "      'date': 'Jul 19, 2023'}]},\n",
       "   'missing': ['codagent/'],\n",
       "   'must_include': {'word': 'codagent/',\n",
       "    'link': \"https://www.google.com/search?num=3&sca_esv=4dae32ac01e8b27f&q=cannot+import+name+'GoogleSearch'+from+'serpapi'+(/opt/anaconda3/envs/+%22codagent/%22+lib/python3.12/site-packages/serpapi/__init__.py)&sa=X&ved=2ahUKEwimrN-F5ImKAxUQGtAFHc9uM6sQ5t4CegQILhAB\"},\n",
       "   'source': 'GitHub'},\n",
       "  {'position': 2,\n",
       "   'title': 'Module not found Error when using Google Search API ...',\n",
       "   'link': 'https://stackoverflow.com/questions/68912059/module-not-found-error-when-using-google-search-api-serpapi',\n",
       "   'redirect_link': 'https://www.google.com/url?sa=t&source=web&rct=j&opi=89978449&url=https://stackoverflow.com/questions/68912059/module-not-found-error-when-using-google-search-api-serpapi&ved=2ahUKEwimrN-F5ImKAxUQGtAFHc9uM6sQFnoECCQQAQ',\n",
       "   'displayed_link': 'https://stackoverflow.com › questions › module-not-fou...',\n",
       "   'favicon': 'https://serpapi.com/searches/674e05526aa3648394122a24/images/e60197fc38113422c0db50257c5ba86b1fec48037dbb68c97617b1470a8c7480.png',\n",
       "   'snippet': \"I get the error: ModuleNotFoundError: No module named 'serpapi'. I can't find anything on Google/Bing search nor the documentation on how to go about ...\",\n",
       "   'snippet_highlighted_words': ['No module', 'serpapi', \"can't\"],\n",
       "   'sitelinks': {'list': [{'title': 'Can not import module search from google module in python',\n",
       "      'link': 'https://stackoverflow.com/questions/44268763/can-not-import-module-search-from-google-module-in-python',\n",
       "      'date': 'May 30, 2017'},\n",
       "     {'title': \"ImportError: cannot import name 'search' from 'googlesearch'\",\n",
       "      'link': 'https://stackoverflow.com/questions/68031375/importerror-cannot-import-name-search-from-googlesearch',\n",
       "      'date': 'Jun 18, 2021'},\n",
       "     {'title': \"cannot import name 'search' from 'googlesearch' in python\",\n",
       "      'link': 'https://stackoverflow.com/questions/77580877/importerror-cannot-import-name-search-from-googlesearch-in-python',\n",
       "      'date': 'Nov 30, 2023'},\n",
       "     {'title': \"cannot import name '...' from partially initialized module ...\",\n",
       "      'link': 'https://stackoverflow.com/questions/64807163/importerror-cannot-import-name-from-partially-initialized-module-m',\n",
       "      'date': 'Nov 12, 2020'}]},\n",
       "   'missing': ['codagent/'],\n",
       "   'must_include': {'word': 'codagent/',\n",
       "    'link': \"https://www.google.com/search?num=3&sca_esv=4dae32ac01e8b27f&q=cannot+import+name+'GoogleSearch'+from+'serpapi'+(/opt/anaconda3/envs/+%22codagent/%22+lib/python3.12/site-packages/serpapi/__init__.py)&sa=X&ved=2ahUKEwimrN-F5ImKAxUQGtAFHc9uM6sQ5t4CegQIKhAB\"},\n",
       "   'source': 'Stack Overflow'},\n",
       "  {'position': 3,\n",
       "   'title': 'importing problem (i.e. cannot import **** from ****) : Forums',\n",
       "   'link': 'https://www.pythonanywhere.com/forums/topic/34557/',\n",
       "   'redirect_link': 'https://www.google.com/url?sa=t&source=web&rct=j&opi=89978449&url=https://www.pythonanywhere.com/forums/topic/34557/&ved=2ahUKEwimrN-F5ImKAxUQGtAFHc9uM6sQFnoECCAQAQ',\n",
       "   'displayed_link': 'https://www.pythonanywhere.com › forums › topic',\n",
       "   'favicon': 'https://serpapi.com/searches/674e05526aa3648394122a24/images/e60197fc38113422c0db50257c5ba86b6be5f036bb2c4cb5fbb50b191257d641.png',\n",
       "   'date': 'May 10, 2024',\n",
       "   'snippet': 'Hi all,. I made a scheduled task that would run every day at a specified time, and opened up a bash where I would import all the libraries ...',\n",
       "   'snippet_highlighted_words': ['import', 'libraries'],\n",
       "   'missing': ['opt/', 'anaconda3/', 'envs/'],\n",
       "   'source': 'PythonAnywhere'}],\n",
       " 'related_searches': [{'block_position': 1,\n",
       "   'query': \"attributeerror: module 'serpapi' has no attribute 'client'\",\n",
       "   'link': 'https://www.google.com/search?num=3&sca_esv=4dae32ac01e8b27f&q=attributeerror:+module+%27serpapi%27+has+no+attribute+%27client%27&sa=X&ved=2ahUKEwimrN-F5ImKAxUQGtAFHc9uM6sQ1QJ6BAgXEAE',\n",
       "   'serpapi_link': 'https://serpapi.com/search.json?device=desktop&engine=google&google_domain=google.com&num=3&q=attributeerror%3A+module+%27serpapi%27+has+no+attribute+%27client%27'},\n",
       "  {'block_position': 1,\n",
       "   'query': 'Serpapi-Python',\n",
       "   'link': 'https://www.google.com/search?num=3&sca_esv=4dae32ac01e8b27f&q=Serpapi-Python&sa=X&ved=2ahUKEwimrN-F5ImKAxUQGtAFHc9uM6sQ1QJ6BAgWEAE',\n",
       "   'serpapi_link': 'https://serpapi.com/search.json?device=desktop&engine=google&google_domain=google.com&num=3&q=Serpapi-Python'},\n",
       "  {'block_position': 1,\n",
       "   'query': 'Pip install serpapi',\n",
       "   'link': 'https://www.google.com/search?num=3&sca_esv=4dae32ac01e8b27f&q=Pip+install+serpapi&sa=X&ved=2ahUKEwimrN-F5ImKAxUQGtAFHc9uM6sQ1QJ6BAgVEAE',\n",
       "   'serpapi_link': 'https://serpapi.com/search.json?device=desktop&engine=google&google_domain=google.com&num=3&q=Pip+install+serpapi'},\n",
       "  {'block_position': 1,\n",
       "   'query': 'SerpApi search',\n",
       "   'link': 'https://www.google.com/search?num=3&sca_esv=4dae32ac01e8b27f&q=SerpApi+search&sa=X&ved=2ahUKEwimrN-F5ImKAxUQGtAFHc9uM6sQ1QJ6BAgREAE',\n",
       "   'serpapi_link': 'https://serpapi.com/search.json?device=desktop&engine=google&google_domain=google.com&num=3&q=SerpApi+search'},\n",
       "  {'block_position': 1,\n",
       "   'query': \"module 'serpapi' has no attribute 'search'\",\n",
       "   'link': 'https://www.google.com/search?num=3&sca_esv=4dae32ac01e8b27f&q=module+%27serpapi%27+has+no+attribute+%27search%27&sa=X&ved=2ahUKEwimrN-F5ImKAxUQGtAFHc9uM6sQ1QJ6BAgTEAE',\n",
       "   'serpapi_link': 'https://serpapi.com/search.json?device=desktop&engine=google&google_domain=google.com&num=3&q=module+%27serpapi%27+has+no+attribute+%27search%27'},\n",
       "  {'block_position': 1,\n",
       "   'query': 'SerpApi github',\n",
       "   'link': 'https://www.google.com/search?num=3&sca_esv=4dae32ac01e8b27f&q=SerpApi+github&sa=X&ved=2ahUKEwimrN-F5ImKAxUQGtAFHc9uM6sQ1QJ6BAgUEAE',\n",
       "   'serpapi_link': 'https://serpapi.com/search.json?device=desktop&engine=google&google_domain=google.com&num=3&q=SerpApi+github'},\n",
       "  {'block_position': 1,\n",
       "   'query': 'Python3 pip install googlesearch python',\n",
       "   'link': 'https://www.google.com/search?num=3&sca_esv=4dae32ac01e8b27f&q=Python3+pip+install+googlesearch+python&sa=X&ved=2ahUKEwimrN-F5ImKAxUQGtAFHc9uM6sQ1QJ6BAgQEAE',\n",
       "   'serpapi_link': 'https://serpapi.com/search.json?device=desktop&engine=google&google_domain=google.com&num=3&q=Python3+pip+install+googlesearch+python'},\n",
       "  {'block_position': 1,\n",
       "   'query': 'Pip install google-search-results',\n",
       "   'link': 'https://www.google.com/search?num=3&sca_esv=4dae32ac01e8b27f&q=Pip+install+google-search-results&sa=X&ved=2ahUKEwimrN-F5ImKAxUQGtAFHc9uM6sQ1QJ6BAgSEAE',\n",
       "   'serpapi_link': 'https://serpapi.com/search.json?device=desktop&engine=google&google_domain=google.com&num=3&q=Pip+install+google-search-results'}],\n",
       " 'pagination': {'current': 1,\n",
       "  'next': \"https://www.google.com/search?q=cannot+import+name+'GoogleSearch'+from+'serpapi'+(/opt/anaconda3/envs/codagent/lib/python3.12/site-packages/serpapi/__init__.py)&num=3&sca_esv=4dae32ac01e8b27f&ei=UgVOZ6a7JZC0wN4Pz93N2Qo&start=3&sa=N&sstk=ATObxK5rH1QlB4bErejxrThpaIpl_CrTB82ZgTrwu-TaGa5sJ1vkxbxU-GiV8Lmv-GEyAPo5OWNJA08uMs-CCXQlCt0da1Zkq74zVQ&ved=2ahUKEwimrN-F5ImKAxUQGtAFHc9uM6sQ8NMDegQIDRAW\",\n",
       "  'other_pages': {'2': \"https://www.google.com/search?q=cannot+import+name+'GoogleSearch'+from+'serpapi'+(/opt/anaconda3/envs/codagent/lib/python3.12/site-packages/serpapi/__init__.py)&num=3&sca_esv=4dae32ac01e8b27f&ei=UgVOZ6a7JZC0wN4Pz93N2Qo&start=3&sa=N&sstk=ATObxK5rH1QlB4bErejxrThpaIpl_CrTB82ZgTrwu-TaGa5sJ1vkxbxU-GiV8Lmv-GEyAPo5OWNJA08uMs-CCXQlCt0da1Zkq74zVQ&ved=2ahUKEwimrN-F5ImKAxUQGtAFHc9uM6sQ8tMDegQIDRAE\",\n",
       "   '3': \"https://www.google.com/search?q=cannot+import+name+'GoogleSearch'+from+'serpapi'+(/opt/anaconda3/envs/codagent/lib/python3.12/site-packages/serpapi/__init__.py)&num=3&sca_esv=4dae32ac01e8b27f&ei=UgVOZ6a7JZC0wN4Pz93N2Qo&start=6&sa=N&sstk=ATObxK5rH1QlB4bErejxrThpaIpl_CrTB82ZgTrwu-TaGa5sJ1vkxbxU-GiV8Lmv-GEyAPo5OWNJA08uMs-CCXQlCt0da1Zkq74zVQ&ved=2ahUKEwimrN-F5ImKAxUQGtAFHc9uM6sQ8tMDegQIDRAG\",\n",
       "   '4': \"https://www.google.com/search?q=cannot+import+name+'GoogleSearch'+from+'serpapi'+(/opt/anaconda3/envs/codagent/lib/python3.12/site-packages/serpapi/__init__.py)&num=3&sca_esv=4dae32ac01e8b27f&ei=UgVOZ6a7JZC0wN4Pz93N2Qo&start=9&sa=N&sstk=ATObxK5rH1QlB4bErejxrThpaIpl_CrTB82ZgTrwu-TaGa5sJ1vkxbxU-GiV8Lmv-GEyAPo5OWNJA08uMs-CCXQlCt0da1Zkq74zVQ&ved=2ahUKEwimrN-F5ImKAxUQGtAFHc9uM6sQ8tMDegQIDRAI\",\n",
       "   '5': \"https://www.google.com/search?q=cannot+import+name+'GoogleSearch'+from+'serpapi'+(/opt/anaconda3/envs/codagent/lib/python3.12/site-packages/serpapi/__init__.py)&num=3&sca_esv=4dae32ac01e8b27f&ei=UgVOZ6a7JZC0wN4Pz93N2Qo&start=12&sa=N&sstk=ATObxK5rH1QlB4bErejxrThpaIpl_CrTB82ZgTrwu-TaGa5sJ1vkxbxU-GiV8Lmv-GEyAPo5OWNJA08uMs-CCXQlCt0da1Zkq74zVQ&ved=2ahUKEwimrN-F5ImKAxUQGtAFHc9uM6sQ8tMDegQIDRAK\",\n",
       "   '6': \"https://www.google.com/search?q=cannot+import+name+'GoogleSearch'+from+'serpapi'+(/opt/anaconda3/envs/codagent/lib/python3.12/site-packages/serpapi/__init__.py)&num=3&sca_esv=4dae32ac01e8b27f&ei=UgVOZ6a7JZC0wN4Pz93N2Qo&start=15&sa=N&sstk=ATObxK5rH1QlB4bErejxrThpaIpl_CrTB82ZgTrwu-TaGa5sJ1vkxbxU-GiV8Lmv-GEyAPo5OWNJA08uMs-CCXQlCt0da1Zkq74zVQ&ved=2ahUKEwimrN-F5ImKAxUQGtAFHc9uM6sQ8tMDegQIDRAM\",\n",
       "   '7': \"https://www.google.com/search?q=cannot+import+name+'GoogleSearch'+from+'serpapi'+(/opt/anaconda3/envs/codagent/lib/python3.12/site-packages/serpapi/__init__.py)&num=3&sca_esv=4dae32ac01e8b27f&ei=UgVOZ6a7JZC0wN4Pz93N2Qo&start=18&sa=N&sstk=ATObxK5rH1QlB4bErejxrThpaIpl_CrTB82ZgTrwu-TaGa5sJ1vkxbxU-GiV8Lmv-GEyAPo5OWNJA08uMs-CCXQlCt0da1Zkq74zVQ&ved=2ahUKEwimrN-F5ImKAxUQGtAFHc9uM6sQ8tMDegQIDRAO\",\n",
       "   '8': \"https://www.google.com/search?q=cannot+import+name+'GoogleSearch'+from+'serpapi'+(/opt/anaconda3/envs/codagent/lib/python3.12/site-packages/serpapi/__init__.py)&num=3&sca_esv=4dae32ac01e8b27f&ei=UgVOZ6a7JZC0wN4Pz93N2Qo&start=21&sa=N&sstk=ATObxK5rH1QlB4bErejxrThpaIpl_CrTB82ZgTrwu-TaGa5sJ1vkxbxU-GiV8Lmv-GEyAPo5OWNJA08uMs-CCXQlCt0da1Zkq74zVQ&ved=2ahUKEwimrN-F5ImKAxUQGtAFHc9uM6sQ8tMDegQIDRAQ\",\n",
       "   '9': \"https://www.google.com/search?q=cannot+import+name+'GoogleSearch'+from+'serpapi'+(/opt/anaconda3/envs/codagent/lib/python3.12/site-packages/serpapi/__init__.py)&num=3&sca_esv=4dae32ac01e8b27f&ei=UgVOZ6a7JZC0wN4Pz93N2Qo&start=24&sa=N&sstk=ATObxK5rH1QlB4bErejxrThpaIpl_CrTB82ZgTrwu-TaGa5sJ1vkxbxU-GiV8Lmv-GEyAPo5OWNJA08uMs-CCXQlCt0da1Zkq74zVQ&ved=2ahUKEwimrN-F5ImKAxUQGtAFHc9uM6sQ8tMDegQIDRAS\",\n",
       "   '10': \"https://www.google.com/search?q=cannot+import+name+'GoogleSearch'+from+'serpapi'+(/opt/anaconda3/envs/codagent/lib/python3.12/site-packages/serpapi/__init__.py)&num=3&sca_esv=4dae32ac01e8b27f&ei=UgVOZ6a7JZC0wN4Pz93N2Qo&start=27&sa=N&sstk=ATObxK5rH1QlB4bErejxrThpaIpl_CrTB82ZgTrwu-TaGa5sJ1vkxbxU-GiV8Lmv-GEyAPo5OWNJA08uMs-CCXQlCt0da1Zkq74zVQ&ved=2ahUKEwimrN-F5ImKAxUQGtAFHc9uM6sQ8tMDegQIDRAU\"}},\n",
       " 'serpapi_pagination': {'current': 1,\n",
       "  'next_link': 'https://serpapi.com/search.json?device=desktop&engine=google&google_domain=google.com&num=3&q=cannot+import+name+%27GoogleSearch%27+from+%27serpapi%27+%28%2Fopt%2Fanaconda3%2Fenvs%2Fcodagent%2Flib%2Fpython3.12%2Fsite-packages%2Fserpapi%2F__init__.py%29&start=3',\n",
       "  'next': 'https://serpapi.com/search.json?device=desktop&engine=google&google_domain=google.com&num=3&q=cannot+import+name+%27GoogleSearch%27+from+%27serpapi%27+%28%2Fopt%2Fanaconda3%2Fenvs%2Fcodagent%2Flib%2Fpython3.12%2Fsite-packages%2Fserpapi%2F__init__.py%29&start=3',\n",
       "  'other_pages': {'2': 'https://serpapi.com/search.json?device=desktop&engine=google&google_domain=google.com&num=3&q=cannot+import+name+%27GoogleSearch%27+from+%27serpapi%27+%28%2Fopt%2Fanaconda3%2Fenvs%2Fcodagent%2Flib%2Fpython3.12%2Fsite-packages%2Fserpapi%2F__init__.py%29&start=3',\n",
       "   '3': 'https://serpapi.com/search.json?device=desktop&engine=google&google_domain=google.com&num=3&q=cannot+import+name+%27GoogleSearch%27+from+%27serpapi%27+%28%2Fopt%2Fanaconda3%2Fenvs%2Fcodagent%2Flib%2Fpython3.12%2Fsite-packages%2Fserpapi%2F__init__.py%29&start=6',\n",
       "   '4': 'https://serpapi.com/search.json?device=desktop&engine=google&google_domain=google.com&num=3&q=cannot+import+name+%27GoogleSearch%27+from+%27serpapi%27+%28%2Fopt%2Fanaconda3%2Fenvs%2Fcodagent%2Flib%2Fpython3.12%2Fsite-packages%2Fserpapi%2F__init__.py%29&start=9',\n",
       "   '5': 'https://serpapi.com/search.json?device=desktop&engine=google&google_domain=google.com&num=3&q=cannot+import+name+%27GoogleSearch%27+from+%27serpapi%27+%28%2Fopt%2Fanaconda3%2Fenvs%2Fcodagent%2Flib%2Fpython3.12%2Fsite-packages%2Fserpapi%2F__init__.py%29&start=12',\n",
       "   '6': 'https://serpapi.com/search.json?device=desktop&engine=google&google_domain=google.com&num=3&q=cannot+import+name+%27GoogleSearch%27+from+%27serpapi%27+%28%2Fopt%2Fanaconda3%2Fenvs%2Fcodagent%2Flib%2Fpython3.12%2Fsite-packages%2Fserpapi%2F__init__.py%29&start=15',\n",
       "   '7': 'https://serpapi.com/search.json?device=desktop&engine=google&google_domain=google.com&num=3&q=cannot+import+name+%27GoogleSearch%27+from+%27serpapi%27+%28%2Fopt%2Fanaconda3%2Fenvs%2Fcodagent%2Flib%2Fpython3.12%2Fsite-packages%2Fserpapi%2F__init__.py%29&start=18',\n",
       "   '8': 'https://serpapi.com/search.json?device=desktop&engine=google&google_domain=google.com&num=3&q=cannot+import+name+%27GoogleSearch%27+from+%27serpapi%27+%28%2Fopt%2Fanaconda3%2Fenvs%2Fcodagent%2Flib%2Fpython3.12%2Fsite-packages%2Fserpapi%2F__init__.py%29&start=21',\n",
       "   '9': 'https://serpapi.com/search.json?device=desktop&engine=google&google_domain=google.com&num=3&q=cannot+import+name+%27GoogleSearch%27+from+%27serpapi%27+%28%2Fopt%2Fanaconda3%2Fenvs%2Fcodagent%2Flib%2Fpython3.12%2Fsite-packages%2Fserpapi%2F__init__.py%29&start=24',\n",
       "   '10': 'https://serpapi.com/search.json?device=desktop&engine=google&google_domain=google.com&num=3&q=cannot+import+name+%27GoogleSearch%27+from+%27serpapi%27+%28%2Fopt%2Fanaconda3%2Fenvs%2Fcodagent%2Flib%2Fpython3.12%2Fsite-packages%2Fserpapi%2F__init__.py%29&start=27'}}}"
      ]
     },
     "execution_count": 20,
     "metadata": {},
     "output_type": "execute_result"
    }
   ],
   "source": [
    "web_search(\"cannot import name 'GoogleSearch' from 'serpapi' (/opt/anaconda3/envs/codagent/lib/python3.12/site-packages/serpapi/__init__.py)\")"
   ]
  },
  {
   "cell_type": "code",
   "execution_count": 21,
   "metadata": {},
   "outputs": [
    {
     "name": "stdout",
     "output_type": "stream",
     "text": [
      "{'search_metadata': {'id': '674e05526aa3648394122a24', 'status': 'Success', 'json_endpoint': 'https://serpapi.com/searches/db4e8a80fa80d477/674e05526aa3648394122a24.json', 'created_at': '2024-12-02 19:06:58 UTC', 'processed_at': '2024-12-02 19:06:58 UTC', 'google_url': 'https://www.google.com/search?q=cannot+import+name+%27GoogleSearch%27+from+%27serpapi%27+%28%2Fopt%2Fanaconda3%2Fenvs%2Fcodagent%2Flib%2Fpython3.12%2Fsite-packages%2Fserpapi%2F__init__.py%29&oq=cannot+import+name+%27GoogleSearch%27+from+%27serpapi%27+%28%2Fopt%2Fanaconda3%2Fenvs%2Fcodagent%2Flib%2Fpython3.12%2Fsite-packages%2Fserpapi%2F__init__.py%29&num=3&sourceid=chrome&ie=UTF-8', 'raw_html_file': 'https://serpapi.com/searches/db4e8a80fa80d477/674e05526aa3648394122a24.html', 'total_time_taken': 0.84}, 'search_parameters': {'engine': 'google', 'q': \"cannot import name 'GoogleSearch' from 'serpapi' (/opt/anaconda3/envs/codagent/lib/python3.12/site-packages/serpapi/__init__.py)\", 'google_domain': 'google.com', 'num': '3', 'device': 'desktop'}, 'search_information': {'query_displayed': \"cannot import name 'GoogleSearch' from 'serpapi' (/opt/anaconda3/envs/codagent/lib/python3.12/site-packages/serpapi/__init__.py)\", 'total_results': 1520, 'time_taken_displayed': 0.36, 'organic_results_state': 'Results for exact spelling'}, 'organic_results': [{'position': 1, 'title': \"ImportError: cannot import name 'GoogleSearch' from ' ...\", 'link': 'https://github.com/serpapi/google-search-results-python/issues/63', 'redirect_link': 'https://www.google.com/url?sa=t&source=web&rct=j&opi=89978449&url=https://github.com/serpapi/google-search-results-python/issues/63&ved=2ahUKEwimrN-F5ImKAxUQGtAFHc9uM6sQFnoECCYQAQ', 'displayed_link': 'https://github.com › google-search-results-python › issues', 'favicon': 'https://serpapi.com/searches/674e05526aa3648394122a24/images/e60197fc38113422c0db50257c5ba86b780e7ba4fc33b6de22afa028bf091b92.png', 'date': 'Nov 25, 2023', 'snippet': 'I also got the same issue. Before, I just installed \"pip install serpapi\" and then tried to import \"GoogleSearch\", which gave me the same error.', 'snippet_highlighted_words': ['serpapi', 'import', 'GoogleSearch'], 'sitelinks': {'list': [{'title': \"`initialized module 'serpapi' has no attribute 'GoogleSearch ...\", 'link': 'https://github.com/serpapi/google-search-results-python/issues/42', 'date': 'Apr 3, 2023'}, {'title': 'Custom agent tutorial doesnt handle replacing SerpAPI with ...', 'link': 'https://github.com/hwchase17/langchain/issues/3485', 'date': 'Apr 24, 2023'}, {'title': 'Serpapi API key not working with Langchain · Issue #7971', 'link': 'https://github.com/hwchase17/langchain/issues/7971', 'date': 'Jul 19, 2023'}]}, 'missing': ['codagent/'], 'must_include': {'word': 'codagent/', 'link': \"https://www.google.com/search?num=3&sca_esv=4dae32ac01e8b27f&q=cannot+import+name+'GoogleSearch'+from+'serpapi'+(/opt/anaconda3/envs/+%22codagent/%22+lib/python3.12/site-packages/serpapi/__init__.py)&sa=X&ved=2ahUKEwimrN-F5ImKAxUQGtAFHc9uM6sQ5t4CegQILhAB\"}, 'source': 'GitHub'}, {'position': 2, 'title': 'Module not found Error when using Google Search API ...', 'link': 'https://stackoverflow.com/questions/68912059/module-not-found-error-when-using-google-search-api-serpapi', 'redirect_link': 'https://www.google.com/url?sa=t&source=web&rct=j&opi=89978449&url=https://stackoverflow.com/questions/68912059/module-not-found-error-when-using-google-search-api-serpapi&ved=2ahUKEwimrN-F5ImKAxUQGtAFHc9uM6sQFnoECCQQAQ', 'displayed_link': 'https://stackoverflow.com › questions › module-not-fou...', 'favicon': 'https://serpapi.com/searches/674e05526aa3648394122a24/images/e60197fc38113422c0db50257c5ba86b1fec48037dbb68c97617b1470a8c7480.png', 'snippet': \"I get the error: ModuleNotFoundError: No module named 'serpapi'. I can't find anything on Google/Bing search nor the documentation on how to go about ...\", 'snippet_highlighted_words': ['No module', 'serpapi', \"can't\"], 'sitelinks': {'list': [{'title': 'Can not import module search from google module in python', 'link': 'https://stackoverflow.com/questions/44268763/can-not-import-module-search-from-google-module-in-python', 'date': 'May 30, 2017'}, {'title': \"ImportError: cannot import name 'search' from 'googlesearch'\", 'link': 'https://stackoverflow.com/questions/68031375/importerror-cannot-import-name-search-from-googlesearch', 'date': 'Jun 18, 2021'}, {'title': \"cannot import name 'search' from 'googlesearch' in python\", 'link': 'https://stackoverflow.com/questions/77580877/importerror-cannot-import-name-search-from-googlesearch-in-python', 'date': 'Nov 30, 2023'}, {'title': \"cannot import name '...' from partially initialized module ...\", 'link': 'https://stackoverflow.com/questions/64807163/importerror-cannot-import-name-from-partially-initialized-module-m', 'date': 'Nov 12, 2020'}]}, 'missing': ['codagent/'], 'must_include': {'word': 'codagent/', 'link': \"https://www.google.com/search?num=3&sca_esv=4dae32ac01e8b27f&q=cannot+import+name+'GoogleSearch'+from+'serpapi'+(/opt/anaconda3/envs/+%22codagent/%22+lib/python3.12/site-packages/serpapi/__init__.py)&sa=X&ved=2ahUKEwimrN-F5ImKAxUQGtAFHc9uM6sQ5t4CegQIKhAB\"}, 'source': 'Stack Overflow'}, {'position': 3, 'title': 'importing problem (i.e. cannot import **** from ****) : Forums', 'link': 'https://www.pythonanywhere.com/forums/topic/34557/', 'redirect_link': 'https://www.google.com/url?sa=t&source=web&rct=j&opi=89978449&url=https://www.pythonanywhere.com/forums/topic/34557/&ved=2ahUKEwimrN-F5ImKAxUQGtAFHc9uM6sQFnoECCAQAQ', 'displayed_link': 'https://www.pythonanywhere.com › forums › topic', 'favicon': 'https://serpapi.com/searches/674e05526aa3648394122a24/images/e60197fc38113422c0db50257c5ba86b6be5f036bb2c4cb5fbb50b191257d641.png', 'date': 'May 10, 2024', 'snippet': 'Hi all,. I made a scheduled task that would run every day at a specified time, and opened up a bash where I would import all the libraries ...', 'snippet_highlighted_words': ['import', 'libraries'], 'missing': ['opt/', 'anaconda3/', 'envs/'], 'source': 'PythonAnywhere'}], 'related_searches': [{'block_position': 1, 'query': \"attributeerror: module 'serpapi' has no attribute 'client'\", 'link': 'https://www.google.com/search?num=3&sca_esv=4dae32ac01e8b27f&q=attributeerror:+module+%27serpapi%27+has+no+attribute+%27client%27&sa=X&ved=2ahUKEwimrN-F5ImKAxUQGtAFHc9uM6sQ1QJ6BAgXEAE', 'serpapi_link': 'https://serpapi.com/search.json?device=desktop&engine=google&google_domain=google.com&num=3&q=attributeerror%3A+module+%27serpapi%27+has+no+attribute+%27client%27'}, {'block_position': 1, 'query': 'Serpapi-Python', 'link': 'https://www.google.com/search?num=3&sca_esv=4dae32ac01e8b27f&q=Serpapi-Python&sa=X&ved=2ahUKEwimrN-F5ImKAxUQGtAFHc9uM6sQ1QJ6BAgWEAE', 'serpapi_link': 'https://serpapi.com/search.json?device=desktop&engine=google&google_domain=google.com&num=3&q=Serpapi-Python'}, {'block_position': 1, 'query': 'Pip install serpapi', 'link': 'https://www.google.com/search?num=3&sca_esv=4dae32ac01e8b27f&q=Pip+install+serpapi&sa=X&ved=2ahUKEwimrN-F5ImKAxUQGtAFHc9uM6sQ1QJ6BAgVEAE', 'serpapi_link': 'https://serpapi.com/search.json?device=desktop&engine=google&google_domain=google.com&num=3&q=Pip+install+serpapi'}, {'block_position': 1, 'query': 'SerpApi search', 'link': 'https://www.google.com/search?num=3&sca_esv=4dae32ac01e8b27f&q=SerpApi+search&sa=X&ved=2ahUKEwimrN-F5ImKAxUQGtAFHc9uM6sQ1QJ6BAgREAE', 'serpapi_link': 'https://serpapi.com/search.json?device=desktop&engine=google&google_domain=google.com&num=3&q=SerpApi+search'}, {'block_position': 1, 'query': \"module 'serpapi' has no attribute 'search'\", 'link': 'https://www.google.com/search?num=3&sca_esv=4dae32ac01e8b27f&q=module+%27serpapi%27+has+no+attribute+%27search%27&sa=X&ved=2ahUKEwimrN-F5ImKAxUQGtAFHc9uM6sQ1QJ6BAgTEAE', 'serpapi_link': 'https://serpapi.com/search.json?device=desktop&engine=google&google_domain=google.com&num=3&q=module+%27serpapi%27+has+no+attribute+%27search%27'}, {'block_position': 1, 'query': 'SerpApi github', 'link': 'https://www.google.com/search?num=3&sca_esv=4dae32ac01e8b27f&q=SerpApi+github&sa=X&ved=2ahUKEwimrN-F5ImKAxUQGtAFHc9uM6sQ1QJ6BAgUEAE', 'serpapi_link': 'https://serpapi.com/search.json?device=desktop&engine=google&google_domain=google.com&num=3&q=SerpApi+github'}, {'block_position': 1, 'query': 'Python3 pip install googlesearch python', 'link': 'https://www.google.com/search?num=3&sca_esv=4dae32ac01e8b27f&q=Python3+pip+install+googlesearch+python&sa=X&ved=2ahUKEwimrN-F5ImKAxUQGtAFHc9uM6sQ1QJ6BAgQEAE', 'serpapi_link': 'https://serpapi.com/search.json?device=desktop&engine=google&google_domain=google.com&num=3&q=Python3+pip+install+googlesearch+python'}, {'block_position': 1, 'query': 'Pip install google-search-results', 'link': 'https://www.google.com/search?num=3&sca_esv=4dae32ac01e8b27f&q=Pip+install+google-search-results&sa=X&ved=2ahUKEwimrN-F5ImKAxUQGtAFHc9uM6sQ1QJ6BAgSEAE', 'serpapi_link': 'https://serpapi.com/search.json?device=desktop&engine=google&google_domain=google.com&num=3&q=Pip+install+google-search-results'}], 'pagination': {'current': 1, 'next': \"https://www.google.com/search?q=cannot+import+name+'GoogleSearch'+from+'serpapi'+(/opt/anaconda3/envs/codagent/lib/python3.12/site-packages/serpapi/__init__.py)&num=3&sca_esv=4dae32ac01e8b27f&ei=UgVOZ6a7JZC0wN4Pz93N2Qo&start=3&sa=N&sstk=ATObxK5rH1QlB4bErejxrThpaIpl_CrTB82ZgTrwu-TaGa5sJ1vkxbxU-GiV8Lmv-GEyAPo5OWNJA08uMs-CCXQlCt0da1Zkq74zVQ&ved=2ahUKEwimrN-F5ImKAxUQGtAFHc9uM6sQ8NMDegQIDRAW\", 'other_pages': {'2': \"https://www.google.com/search?q=cannot+import+name+'GoogleSearch'+from+'serpapi'+(/opt/anaconda3/envs/codagent/lib/python3.12/site-packages/serpapi/__init__.py)&num=3&sca_esv=4dae32ac01e8b27f&ei=UgVOZ6a7JZC0wN4Pz93N2Qo&start=3&sa=N&sstk=ATObxK5rH1QlB4bErejxrThpaIpl_CrTB82ZgTrwu-TaGa5sJ1vkxbxU-GiV8Lmv-GEyAPo5OWNJA08uMs-CCXQlCt0da1Zkq74zVQ&ved=2ahUKEwimrN-F5ImKAxUQGtAFHc9uM6sQ8tMDegQIDRAE\", '3': \"https://www.google.com/search?q=cannot+import+name+'GoogleSearch'+from+'serpapi'+(/opt/anaconda3/envs/codagent/lib/python3.12/site-packages/serpapi/__init__.py)&num=3&sca_esv=4dae32ac01e8b27f&ei=UgVOZ6a7JZC0wN4Pz93N2Qo&start=6&sa=N&sstk=ATObxK5rH1QlB4bErejxrThpaIpl_CrTB82ZgTrwu-TaGa5sJ1vkxbxU-GiV8Lmv-GEyAPo5OWNJA08uMs-CCXQlCt0da1Zkq74zVQ&ved=2ahUKEwimrN-F5ImKAxUQGtAFHc9uM6sQ8tMDegQIDRAG\", '4': \"https://www.google.com/search?q=cannot+import+name+'GoogleSearch'+from+'serpapi'+(/opt/anaconda3/envs/codagent/lib/python3.12/site-packages/serpapi/__init__.py)&num=3&sca_esv=4dae32ac01e8b27f&ei=UgVOZ6a7JZC0wN4Pz93N2Qo&start=9&sa=N&sstk=ATObxK5rH1QlB4bErejxrThpaIpl_CrTB82ZgTrwu-TaGa5sJ1vkxbxU-GiV8Lmv-GEyAPo5OWNJA08uMs-CCXQlCt0da1Zkq74zVQ&ved=2ahUKEwimrN-F5ImKAxUQGtAFHc9uM6sQ8tMDegQIDRAI\", '5': \"https://www.google.com/search?q=cannot+import+name+'GoogleSearch'+from+'serpapi'+(/opt/anaconda3/envs/codagent/lib/python3.12/site-packages/serpapi/__init__.py)&num=3&sca_esv=4dae32ac01e8b27f&ei=UgVOZ6a7JZC0wN4Pz93N2Qo&start=12&sa=N&sstk=ATObxK5rH1QlB4bErejxrThpaIpl_CrTB82ZgTrwu-TaGa5sJ1vkxbxU-GiV8Lmv-GEyAPo5OWNJA08uMs-CCXQlCt0da1Zkq74zVQ&ved=2ahUKEwimrN-F5ImKAxUQGtAFHc9uM6sQ8tMDegQIDRAK\", '6': \"https://www.google.com/search?q=cannot+import+name+'GoogleSearch'+from+'serpapi'+(/opt/anaconda3/envs/codagent/lib/python3.12/site-packages/serpapi/__init__.py)&num=3&sca_esv=4dae32ac01e8b27f&ei=UgVOZ6a7JZC0wN4Pz93N2Qo&start=15&sa=N&sstk=ATObxK5rH1QlB4bErejxrThpaIpl_CrTB82ZgTrwu-TaGa5sJ1vkxbxU-GiV8Lmv-GEyAPo5OWNJA08uMs-CCXQlCt0da1Zkq74zVQ&ved=2ahUKEwimrN-F5ImKAxUQGtAFHc9uM6sQ8tMDegQIDRAM\", '7': \"https://www.google.com/search?q=cannot+import+name+'GoogleSearch'+from+'serpapi'+(/opt/anaconda3/envs/codagent/lib/python3.12/site-packages/serpapi/__init__.py)&num=3&sca_esv=4dae32ac01e8b27f&ei=UgVOZ6a7JZC0wN4Pz93N2Qo&start=18&sa=N&sstk=ATObxK5rH1QlB4bErejxrThpaIpl_CrTB82ZgTrwu-TaGa5sJ1vkxbxU-GiV8Lmv-GEyAPo5OWNJA08uMs-CCXQlCt0da1Zkq74zVQ&ved=2ahUKEwimrN-F5ImKAxUQGtAFHc9uM6sQ8tMDegQIDRAO\", '8': \"https://www.google.com/search?q=cannot+import+name+'GoogleSearch'+from+'serpapi'+(/opt/anaconda3/envs/codagent/lib/python3.12/site-packages/serpapi/__init__.py)&num=3&sca_esv=4dae32ac01e8b27f&ei=UgVOZ6a7JZC0wN4Pz93N2Qo&start=21&sa=N&sstk=ATObxK5rH1QlB4bErejxrThpaIpl_CrTB82ZgTrwu-TaGa5sJ1vkxbxU-GiV8Lmv-GEyAPo5OWNJA08uMs-CCXQlCt0da1Zkq74zVQ&ved=2ahUKEwimrN-F5ImKAxUQGtAFHc9uM6sQ8tMDegQIDRAQ\", '9': \"https://www.google.com/search?q=cannot+import+name+'GoogleSearch'+from+'serpapi'+(/opt/anaconda3/envs/codagent/lib/python3.12/site-packages/serpapi/__init__.py)&num=3&sca_esv=4dae32ac01e8b27f&ei=UgVOZ6a7JZC0wN4Pz93N2Qo&start=24&sa=N&sstk=ATObxK5rH1QlB4bErejxrThpaIpl_CrTB82ZgTrwu-TaGa5sJ1vkxbxU-GiV8Lmv-GEyAPo5OWNJA08uMs-CCXQlCt0da1Zkq74zVQ&ved=2ahUKEwimrN-F5ImKAxUQGtAFHc9uM6sQ8tMDegQIDRAS\", '10': \"https://www.google.com/search?q=cannot+import+name+'GoogleSearch'+from+'serpapi'+(/opt/anaconda3/envs/codagent/lib/python3.12/site-packages/serpapi/__init__.py)&num=3&sca_esv=4dae32ac01e8b27f&ei=UgVOZ6a7JZC0wN4Pz93N2Qo&start=27&sa=N&sstk=ATObxK5rH1QlB4bErejxrThpaIpl_CrTB82ZgTrwu-TaGa5sJ1vkxbxU-GiV8Lmv-GEyAPo5OWNJA08uMs-CCXQlCt0da1Zkq74zVQ&ved=2ahUKEwimrN-F5ImKAxUQGtAFHc9uM6sQ8tMDegQIDRAU\"}}, 'serpapi_pagination': {'current': 1, 'next_link': 'https://serpapi.com/search.json?device=desktop&engine=google&google_domain=google.com&num=3&q=cannot+import+name+%27GoogleSearch%27+from+%27serpapi%27+%28%2Fopt%2Fanaconda3%2Fenvs%2Fcodagent%2Flib%2Fpython3.12%2Fsite-packages%2Fserpapi%2F__init__.py%29&start=3', 'next': 'https://serpapi.com/search.json?device=desktop&engine=google&google_domain=google.com&num=3&q=cannot+import+name+%27GoogleSearch%27+from+%27serpapi%27+%28%2Fopt%2Fanaconda3%2Fenvs%2Fcodagent%2Flib%2Fpython3.12%2Fsite-packages%2Fserpapi%2F__init__.py%29&start=3', 'other_pages': {'2': 'https://serpapi.com/search.json?device=desktop&engine=google&google_domain=google.com&num=3&q=cannot+import+name+%27GoogleSearch%27+from+%27serpapi%27+%28%2Fopt%2Fanaconda3%2Fenvs%2Fcodagent%2Flib%2Fpython3.12%2Fsite-packages%2Fserpapi%2F__init__.py%29&start=3', '3': 'https://serpapi.com/search.json?device=desktop&engine=google&google_domain=google.com&num=3&q=cannot+import+name+%27GoogleSearch%27+from+%27serpapi%27+%28%2Fopt%2Fanaconda3%2Fenvs%2Fcodagent%2Flib%2Fpython3.12%2Fsite-packages%2Fserpapi%2F__init__.py%29&start=6', '4': 'https://serpapi.com/search.json?device=desktop&engine=google&google_domain=google.com&num=3&q=cannot+import+name+%27GoogleSearch%27+from+%27serpapi%27+%28%2Fopt%2Fanaconda3%2Fenvs%2Fcodagent%2Flib%2Fpython3.12%2Fsite-packages%2Fserpapi%2F__init__.py%29&start=9', '5': 'https://serpapi.com/search.json?device=desktop&engine=google&google_domain=google.com&num=3&q=cannot+import+name+%27GoogleSearch%27+from+%27serpapi%27+%28%2Fopt%2Fanaconda3%2Fenvs%2Fcodagent%2Flib%2Fpython3.12%2Fsite-packages%2Fserpapi%2F__init__.py%29&start=12', '6': 'https://serpapi.com/search.json?device=desktop&engine=google&google_domain=google.com&num=3&q=cannot+import+name+%27GoogleSearch%27+from+%27serpapi%27+%28%2Fopt%2Fanaconda3%2Fenvs%2Fcodagent%2Flib%2Fpython3.12%2Fsite-packages%2Fserpapi%2F__init__.py%29&start=15', '7': 'https://serpapi.com/search.json?device=desktop&engine=google&google_domain=google.com&num=3&q=cannot+import+name+%27GoogleSearch%27+from+%27serpapi%27+%28%2Fopt%2Fanaconda3%2Fenvs%2Fcodagent%2Flib%2Fpython3.12%2Fsite-packages%2Fserpapi%2F__init__.py%29&start=18', '8': 'https://serpapi.com/search.json?device=desktop&engine=google&google_domain=google.com&num=3&q=cannot+import+name+%27GoogleSearch%27+from+%27serpapi%27+%28%2Fopt%2Fanaconda3%2Fenvs%2Fcodagent%2Flib%2Fpython3.12%2Fsite-packages%2Fserpapi%2F__init__.py%29&start=21', '9': 'https://serpapi.com/search.json?device=desktop&engine=google&google_domain=google.com&num=3&q=cannot+import+name+%27GoogleSearch%27+from+%27serpapi%27+%28%2Fopt%2Fanaconda3%2Fenvs%2Fcodagent%2Flib%2Fpython3.12%2Fsite-packages%2Fserpapi%2F__init__.py%29&start=24', '10': 'https://serpapi.com/search.json?device=desktop&engine=google&google_domain=google.com&num=3&q=cannot+import+name+%27GoogleSearch%27+from+%27serpapi%27+%28%2Fopt%2Fanaconda3%2Fenvs%2Fcodagent%2Flib%2Fpython3.12%2Fsite-packages%2Fserpapi%2F__init__.py%29&start=27'}}}\n",
      "<class 'dict'>\n"
     ]
    }
   ],
   "source": [
    "output=web_search(\"cannot import name 'GoogleSearch' from 'serpapi' (/opt/anaconda3/envs/codagent/lib/python3.12/site-packages/serpapi/__init__.py)\")"
   ]
  },
  {
   "cell_type": "code",
   "execution_count": 22,
   "metadata": {},
   "outputs": [
    {
     "name": "stdout",
     "output_type": "stream",
     "text": [
      "<class 'dict'>\n"
     ]
    }
   ],
   "source": [
    "print(type(output))"
   ]
  },
  {
   "cell_type": "code",
   "execution_count": 23,
   "metadata": {},
   "outputs": [],
   "source": [
    "output_org=output[\"organic_results\"]"
   ]
  },
  {
   "cell_type": "code",
   "execution_count": 24,
   "metadata": {},
   "outputs": [],
   "source": [
    "contexts = \"\\n---\\n\".join(\n",
    "        [\"\\n\".join([x[\"title\"], x[\"snippet\"], x[\"link\"]]) for x in output_org]\n",
    "    )"
   ]
  },
  {
   "cell_type": "code",
   "execution_count": null,
   "metadata": {},
   "outputs": [
    {
     "name": "stdout",
     "output_type": "stream",
     "text": [
      "ImportError: cannot import name 'GoogleSearch' from ' ...\n",
      "I also got the same issue. Before, I just installed \"pip install serpapi\" and then tried to import \"GoogleSearch\", which gave me the same error.\n",
      "https://github.com/serpapi/google-search-results-python/issues/63\n",
      "---\n",
      "Module not found Error when using Google Search API ...\n",
      "I get the error: ModuleNotFoundError: No module named 'serpapi'. I can't find anything on Google/Bing search nor the documentation on how to go about ...\n",
      "https://stackoverflow.com/questions/68912059/module-not-found-error-when-using-google-search-api-serpapi\n",
      "---\n",
      "importing problem (i.e. cannot import **** from ****) : Forums\n",
      "Hi all,. I made a scheduled task that would run every day at a specified time, and opened up a bash where I would import all the libraries ...\n",
      "https://www.pythonanywhere.com/forums/topic/34557/\n"
     ]
    }
   ],
   "source": [
    "print(contexts)"
   ]
  },
  {
   "cell_type": "code",
   "execution_count": null,
   "metadata": {},
   "outputs": [
    {
     "name": "stdout",
     "output_type": "stream",
     "text": [
      "dict_keys(['search_metadata', 'search_parameters', 'search_information', 'organic_results', 'related_searches', 'pagination', 'serpapi_pagination'])\n"
     ]
    }
   ],
   "source": [
    "print(output.keys())"
   ]
  },
  {
   "cell_type": "code",
   "execution_count": 32,
   "metadata": {},
   "outputs": [
    {
     "data": {
      "text/plain": [
       "[{'position': 1,\n",
       "  'title': \"ImportError: cannot import name 'GoogleSearch' from ' ...\",\n",
       "  'link': 'https://github.com/serpapi/google-search-results-python/issues/63',\n",
       "  'redirect_link': 'https://www.google.com/url?sa=t&source=web&rct=j&opi=89978449&url=https://github.com/serpapi/google-search-results-python/issues/63&ved=2ahUKEwimrN-F5ImKAxUQGtAFHc9uM6sQFnoECCYQAQ',\n",
       "  'displayed_link': 'https://github.com › google-search-results-python › issues',\n",
       "  'favicon': 'https://serpapi.com/searches/674e05526aa3648394122a24/images/e60197fc38113422c0db50257c5ba86b780e7ba4fc33b6de22afa028bf091b92.png',\n",
       "  'date': 'Nov 25, 2023',\n",
       "  'snippet': 'I also got the same issue. Before, I just installed \"pip install serpapi\" and then tried to import \"GoogleSearch\", which gave me the same error.',\n",
       "  'snippet_highlighted_words': ['serpapi', 'import', 'GoogleSearch'],\n",
       "  'sitelinks': {'list': [{'title': \"`initialized module 'serpapi' has no attribute 'GoogleSearch ...\",\n",
       "     'link': 'https://github.com/serpapi/google-search-results-python/issues/42',\n",
       "     'date': 'Apr 3, 2023'},\n",
       "    {'title': 'Custom agent tutorial doesnt handle replacing SerpAPI with ...',\n",
       "     'link': 'https://github.com/hwchase17/langchain/issues/3485',\n",
       "     'date': 'Apr 24, 2023'},\n",
       "    {'title': 'Serpapi API key not working with Langchain · Issue #7971',\n",
       "     'link': 'https://github.com/hwchase17/langchain/issues/7971',\n",
       "     'date': 'Jul 19, 2023'}]},\n",
       "  'missing': ['codagent/'],\n",
       "  'must_include': {'word': 'codagent/',\n",
       "   'link': \"https://www.google.com/search?num=3&sca_esv=4dae32ac01e8b27f&q=cannot+import+name+'GoogleSearch'+from+'serpapi'+(/opt/anaconda3/envs/+%22codagent/%22+lib/python3.12/site-packages/serpapi/__init__.py)&sa=X&ved=2ahUKEwimrN-F5ImKAxUQGtAFHc9uM6sQ5t4CegQILhAB\"},\n",
       "  'source': 'GitHub'},\n",
       " {'position': 2,\n",
       "  'title': 'Module not found Error when using Google Search API ...',\n",
       "  'link': 'https://stackoverflow.com/questions/68912059/module-not-found-error-when-using-google-search-api-serpapi',\n",
       "  'redirect_link': 'https://www.google.com/url?sa=t&source=web&rct=j&opi=89978449&url=https://stackoverflow.com/questions/68912059/module-not-found-error-when-using-google-search-api-serpapi&ved=2ahUKEwimrN-F5ImKAxUQGtAFHc9uM6sQFnoECCQQAQ',\n",
       "  'displayed_link': 'https://stackoverflow.com › questions › module-not-fou...',\n",
       "  'favicon': 'https://serpapi.com/searches/674e05526aa3648394122a24/images/e60197fc38113422c0db50257c5ba86b1fec48037dbb68c97617b1470a8c7480.png',\n",
       "  'snippet': \"I get the error: ModuleNotFoundError: No module named 'serpapi'. I can't find anything on Google/Bing search nor the documentation on how to go about ...\",\n",
       "  'snippet_highlighted_words': ['No module', 'serpapi', \"can't\"],\n",
       "  'sitelinks': {'list': [{'title': 'Can not import module search from google module in python',\n",
       "     'link': 'https://stackoverflow.com/questions/44268763/can-not-import-module-search-from-google-module-in-python',\n",
       "     'date': 'May 30, 2017'},\n",
       "    {'title': \"ImportError: cannot import name 'search' from 'googlesearch'\",\n",
       "     'link': 'https://stackoverflow.com/questions/68031375/importerror-cannot-import-name-search-from-googlesearch',\n",
       "     'date': 'Jun 18, 2021'},\n",
       "    {'title': \"cannot import name 'search' from 'googlesearch' in python\",\n",
       "     'link': 'https://stackoverflow.com/questions/77580877/importerror-cannot-import-name-search-from-googlesearch-in-python',\n",
       "     'date': 'Nov 30, 2023'},\n",
       "    {'title': \"cannot import name '...' from partially initialized module ...\",\n",
       "     'link': 'https://stackoverflow.com/questions/64807163/importerror-cannot-import-name-from-partially-initialized-module-m',\n",
       "     'date': 'Nov 12, 2020'}]},\n",
       "  'missing': ['codagent/'],\n",
       "  'must_include': {'word': 'codagent/',\n",
       "   'link': \"https://www.google.com/search?num=3&sca_esv=4dae32ac01e8b27f&q=cannot+import+name+'GoogleSearch'+from+'serpapi'+(/opt/anaconda3/envs/+%22codagent/%22+lib/python3.12/site-packages/serpapi/__init__.py)&sa=X&ved=2ahUKEwimrN-F5ImKAxUQGtAFHc9uM6sQ5t4CegQIKhAB\"},\n",
       "  'source': 'Stack Overflow'},\n",
       " {'position': 3,\n",
       "  'title': 'importing problem (i.e. cannot import **** from ****) : Forums',\n",
       "  'link': 'https://www.pythonanywhere.com/forums/topic/34557/',\n",
       "  'redirect_link': 'https://www.google.com/url?sa=t&source=web&rct=j&opi=89978449&url=https://www.pythonanywhere.com/forums/topic/34557/&ved=2ahUKEwimrN-F5ImKAxUQGtAFHc9uM6sQFnoECCAQAQ',\n",
       "  'displayed_link': 'https://www.pythonanywhere.com › forums › topic',\n",
       "  'favicon': 'https://serpapi.com/searches/674e05526aa3648394122a24/images/e60197fc38113422c0db50257c5ba86b6be5f036bb2c4cb5fbb50b191257d641.png',\n",
       "  'date': 'May 10, 2024',\n",
       "  'snippet': 'Hi all,. I made a scheduled task that would run every day at a specified time, and opened up a bash where I would import all the libraries ...',\n",
       "  'snippet_highlighted_words': ['import', 'libraries'],\n",
       "  'missing': ['opt/', 'anaconda3/', 'envs/'],\n",
       "  'source': 'PythonAnywhere'}]"
      ]
     },
     "execution_count": 32,
     "metadata": {},
     "output_type": "execute_result"
    }
   ],
   "source": [
    "output_org"
   ]
  },
  {
   "cell_type": "code",
   "execution_count": null,
   "metadata": {},
   "outputs": [],
   "source": []
  }
 ],
 "metadata": {
  "kernelspec": {
   "display_name": "codagent",
   "language": "python",
   "name": "python3"
  },
  "language_info": {
   "codemirror_mode": {
    "name": "ipython",
    "version": 3
   },
   "file_extension": ".py",
   "mimetype": "text/x-python",
   "name": "python",
   "nbconvert_exporter": "python",
   "pygments_lexer": "ipython3",
   "version": "3.12.7"
  }
 },
 "nbformat": 4,
 "nbformat_minor": 2
}
